{
 "cells": [
  {
   "cell_type": "code",
   "execution_count": 1,
   "metadata": {},
   "outputs": [],
   "source": [
    "import os\n",
    "import time\n",
    "import subprocess\n",
    "import json"
   ]
  },
  {
   "cell_type": "code",
   "execution_count": 2,
   "metadata": {},
   "outputs": [],
   "source": [
    "import wolframalpha\n",
    "import requests\n",
    "import webbrowser\n",
    "import wikipedia\n",
    "import datetime"
   ]
  },
  {
   "cell_type": "code",
   "execution_count": 3,
   "metadata": {},
   "outputs": [],
   "source": [
    "import speech_recognition as sr\n",
    "import pyttsx3\n"
   ]
  },
  {
   "cell_type": "code",
   "execution_count": 4,
   "metadata": {},
   "outputs": [
    {
     "name": "stdout",
     "output_type": "stream",
     "text": [
      "LOADING YOUR A.I PERSONAL ASSISTANT JAZZ\n"
     ]
    }
   ],
   "source": [
    "print('LOADING YOUR A.I PERSONAL ASSISTANT JAZZ')"
   ]
  },
  {
   "cell_type": "code",
   "execution_count": 5,
   "metadata": {},
   "outputs": [],
   "source": [
    "engine=pyttsx3.init('sapi5')\n",
    "voices=engine.getProperty('voices')\n",
    "engine.setProperty('voice','voices[1].id')"
   ]
  },
  {
   "cell_type": "code",
   "execution_count": 6,
   "metadata": {},
   "outputs": [],
   "source": [
    "def speak(text):\n",
    "    engine.say(text)\n",
    "    engine.runAndWait()"
   ]
  },
  {
   "cell_type": "code",
   "execution_count": 7,
   "metadata": {},
   "outputs": [],
   "source": [
    "def wishMe():\n",
    "    hour=datetime.datetime.now().hour\n",
    "    if hour >=0 and hour< 12:\n",
    "        speak('Hello, Good morg Mr.Tejesh')\n",
    "        print('Hello, Good morg Mr.Tejesh')\n",
    "    elif hour>=10 and hour<=18:\n",
    "        speak('Hello, Good afternoon Mr.Tejesh')\n",
    "        print('Hello, Good afternoon Mr.Tejesh')\n",
    "    else:\n",
    "        speak('Its already the night time better go to sleep')\n",
    "        print('Its already the night time better go to sleep')\n",
    "        "
   ]
  },
  {
   "cell_type": "code",
   "execution_count": 8,
   "metadata": {},
   "outputs": [],
   "source": [
    "def takeCommand():\n",
    "    r=sr.Recognizer()\n",
    "    with sr.Microphone() as source:\n",
    "        print('i AM LISTENING')\n",
    "        audio=r.listen(source)\n",
    "        \n",
    "        try:\n",
    "            statement=r.recognize_google(audio,language='en-in')\n",
    "            print(f\"user said:{statement}\\n\")\n",
    "            \n",
    "        except Exception as e:\n",
    "            speak('pardon me, please say that again')\n",
    "            return 'None'\n",
    "        return statement"
   ]
  },
  {
   "cell_type": "code",
   "execution_count": null,
   "metadata": {},
   "outputs": [],
   "source": []
  },
  {
   "cell_type": "code",
   "execution_count": null,
   "metadata": {},
   "outputs": [
    {
     "name": "stdout",
     "output_type": "stream",
     "text": [
      "Its already the night time better go to sleep\n",
      "i AM LISTENING\n",
      "i AM LISTENING\n",
      "i AM LISTENING\n"
     ]
    }
   ],
   "source": [
    "speak(\"LOADING YOUR A.I ASSISTANT JAZZ\")\n",
    "wishMe()\n",
    "\n",
    "\n",
    "if __name__=='__main__':\n",
    "    while True:\n",
    "        speak('how can i help you?')\n",
    "        statement=takeCommand()\n",
    "        if statement ==0:\n",
    "            continue\n",
    "        if 'good bye' in statement or 'ok bye' in statement or 'stop' in statement:\n",
    "            speak('your personal AI assistant jazz is shutting down,Good bye')\n",
    "            print('your personal AI assistant jazz is shutting down,Good bye')\n",
    "            break\n",
    "            \n",
    "        if 'wikipedia' in statement:\n",
    "            speak('searching wikipedia.............')\n",
    "            statement = statement.replace('wikipedia','')\n",
    "            results=wikipedia.summary(statement,sentence=3)\n",
    "            speak('According to wikipedia..........')\n",
    "            print(results)\n",
    "            speak(results)\n",
    "            \n",
    "            \n",
    "        elif 'open youtube' in statement:\n",
    "            webbrowser.open_new_tab('https://www.youtube.com')\n",
    "            speak('youtube is open for you')\n",
    "            time.sleep(5)\n",
    "            \n",
    "        elif 'open google' in statement:\n",
    "            webbrowser.open_new_tab('https://www.google.com')\n",
    "            speak('google search is open for you')\n",
    "            time.sleep(5)\n",
    "            \n",
    "        elif 'open gmail' in statement:\n",
    "            webbrowser.open_new_tab('gmail.com')\n",
    "            speak('your gmail is open for you')\n",
    "            time.sleep(5)\n",
    "        \n",
    "        elif 'weather' in statement:\n",
    "            api_key='8ef61edcf1c576d65d836254e11ea420'\n",
    "            base_url='https://api.openweathermap.org/data/2.5/weather?'\n",
    "            speak('whats the city name')\n",
    "            city_name=takeCommand()\n",
    "            complete_url=base_url+'appid='+api_key+'&q='+city_name\n",
    "            response=request.get(complete_url)\n",
    "            x=respone.json()\n",
    "            if x['cod']!='404':\n",
    "                y=x['main']\n",
    "                current_temperature=y['temp']\n",
    "                currnet_humidity=y['humidity']\n",
    "                z=x['weather']\n",
    "                weather_description=z[0]['description']\n",
    "                speak('the temperature in kelvin units is '+str(current_temperature)+'\\n humidity in precentage is '+str(currnet_humidity)+'\\n weather descreption is '+str(weather_description))\n",
    "                print('the temperature in kelvin units is '+str(current_temperature)+'\\n humidity in precentage is '+str(currnet_humidity)+'\\n weather descreption is '+str(weather_description))\n",
    "            else:\n",
    "                speak('city not found')\n",
    "                print('city not found')\n",
    "        elif 'time' in statement:\n",
    "            strTime=datetime.datetime.now.strftime('%H:%M:%S')\n",
    "            speak(f\"the time is{strTime}\")\n",
    "        \n",
    "        elif 'who are you' in statement or 'what can you do' in statement or 'whats your name' in statement:\n",
    "            speak('I am jazz version 007 your personal assistant. Iam programmerd to open wikipedia.......,open google.......,open youtube'\n",
    "                  'open gmail, tell you about the weather in different cities as well as i can read news!!! ''')\n",
    "        elif 'who made you' in statement or 'who created you' in statement or 'who programmed you' in statement:\n",
    "            speak('My master is Rakesh son of manjula he is a great man , good humble person, his mother is lucky to have him')\n",
    "            print('My master is Rakesh son of manjula he is a great man , good humble person, his mother is lucky to have him')\n",
    "        elif 'open stack overflow' in statement:\n",
    "            webbrowser.open_new_tab('https://stackoverflow.com/login')\n",
    "            time.sleep(5)\n",
    "        elif 'news' in statement:\n",
    "            news=webbrowser.open_new_tab('https://timeofindia.indiatimes.com/home/headlines')\n",
    "            speak('here is the news')\n",
    "            time.sleep(8)\n",
    "        elif 'search' in statement:\n",
    "            statement=statement.replace('search','')\n",
    "            webbrowser.open_new_tab('statement')\n",
    "            time.sleep(5)\n",
    "                  \n",
    "        elif 'ask' in statement:\n",
    "            speak('I can answer to computational and geographical too just try me!!! what do you want to ask')\n",
    "            question=takeCommand()\n",
    "            app_id='R2K75H-7ELALHR35X'\n",
    "            client=wolframalpha.Client('R2K75H-7ELALHR35X')\n",
    "            res=client.query(question)\n",
    "            answer=next(res.results).text\n",
    "            speak(answer)\n",
    "            print(answer)\n",
    "                  \n",
    "        elif 'log off' in statement or 'sign out' in statement or 'shut down' in statement:\n",
    "            speak('ok , your PC will shut down in 10 seconds - make sure you have saved all the works Thank you')\n",
    "            subprocess.call(['shutdown','/1'])\n",
    "time.sleep(3)"
   ]
  },
  {
   "cell_type": "code",
   "execution_count": null,
   "metadata": {},
   "outputs": [],
   "source": []
  },
  {
   "cell_type": "code",
   "execution_count": null,
   "metadata": {},
   "outputs": [],
   "source": []
  }
 ],
 "metadata": {
  "kernelspec": {
   "display_name": "Python 3",
   "language": "python",
   "name": "python3"
  },
  "language_info": {
   "codemirror_mode": {
    "name": "ipython",
    "version": 3
   },
   "file_extension": ".py",
   "mimetype": "text/x-python",
   "name": "python",
   "nbconvert_exporter": "python",
   "pygments_lexer": "ipython3",
   "version": "3.8.3"
  }
 },
 "nbformat": 4,
 "nbformat_minor": 4
}
